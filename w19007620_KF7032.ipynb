{
 "cells": [
  {
   "cell_type": "markdown",
   "id": "1b5a2693",
   "metadata": {},
   "source": [
    "# Overview\n",
    "\n",
    "These sections match the marking scheme. Each heading indicates the marks for each and type of content that should be included (either Markdown or Code). You can prepare markdown sections  in Microsoft Word, but remember to change the cell type to 'Markdown' so the cell is not executed as code. (See: <a href=\"https://www.markdownguide.org/basic-syntax/\">Markdown<a/>)\n",
    "\n",
    "1. Rename the Notebook replacing the words '_KF7032_Template_' with your user id (something like w12345678_KF7032)\n",
    "2. Before you submit the final version of your notebook, you should delete all output, and then run all cells. This checks that your program is consistent.\n",
    "3. Finally download the notebooks as an __.ipynb file__ for assessment, and also as an __html file__ that will readable by examiners who do not have Jupyter.\n",
    "4. Sections identified as Markdown should be at least one paragraph of text. The total word limit for markdown is 2500 words"
   ]
  },
  {
   "cell_type": "markdown",
   "id": "fbf35b8c",
   "metadata": {},
   "source": [
    "# 1) Introduction: The Crime Analysis task ..._Markdown_, **10 Marks**, Max 300 Words\n",
    "\n",
    "This section should be written in markdown.\n",
    "\n",
    "    1. Give the background to the \"Drugs and Guns\" project. Use the academic literature to motivate the work. Remember to cite papers you are using.\n",
    "    2. Give the aims and objectives of the project in your own words. (Do not copy the assignment spec)\n",
    "    3. Outline the technical approach (what you plan to do)"
   ]
  },
  {
   "cell_type": "markdown",
   "id": "a70c9322",
   "metadata": {},
   "source": [
    "Claims that an increase in violence in the UK, specifically so within gun and knife crime, are not unfounded, with parts of the UK experiencing a rise in reported gun and knife crime; and Brexit threatening UK correspondence with EU organisations set up to tackle this problem [1]. Drug offences are more relatively stable, albeit at a constant high level, with the UK having the highest level of drug dependence and one of the highest levels of recreational drug use in all of Europe [2, 3].\n",
    "\n",
    "The primary objective of the project is to verify and evaluate claims made in the TV documentary “Ross Kemp and the Armed Police”. The claims are from the 6/9/2018 broadcast, stating that violent crime is increasing, that there are more firearm incidents per head in Birmingham than anywhere else in the UK, and that crimes involving firearms are closely associated with drug offences. The extent to which the data supports or contradicts the claims will be analysed and evaluated.\n",
    "\n",
    "UK Government provided data will be used to do this, primarily constituted of a large dataset of crimes within the UK, including the date and type of crime, location coordinates and the outcome. Several other datasets will be used in conjunction, including a dataset of UK postcodes and their coordinates as well as UK postcodes with their district and population.\n",
    "\n",
    "Using this data together, the dataset of crimes can be filtered data only to relevant crimes, with the crime location extracted. This can be converted to a postcode and further to a district using the second and third datasets respectively. The third dataset also contains information about population at a given postcode, and by extension district, all together providing crimes per population in each district. Trends in violent crime can be observed by plotting violent crimes as a timeseries. Lastly, any association between firearms and drugs can be identified by the correlation coefficient from an appropriate regression correlation algorithm.\n"
   ]
  },
  {
   "cell_type": "markdown",
   "id": "37eea70d",
   "metadata": {},
   "source": [
    "# 2) Component Selection and Data Pipeline Implementation _code_\t**10 Marks**\n",
    "\n",
    "In this section you will have one or more code cells. These will include your library imports. You will also access the data efficiently using Apache Spark on a cloud Infrastructure as a Service (IaaS) platform. (NB Google colab is SaaS -- not IaaS)\n",
    "\n",
    "To speed your subsequent development you may want to initially use a subset of the data so could process that here."
   ]
  },
  {
   "cell_type": "code",
   "execution_count": 1,
   "id": "dcb49dbc",
   "metadata": {},
   "outputs": [],
   "source": [
    "# Import packages\n",
    "# pandas for fast, local dataframes and display\n",
    "import pandas as pd\n",
    "\n",
    "# pyspark for spark integration \n",
    "from pyspark.sql import SparkSession\n",
    "from pyspark.sql.types import StructType, StructField, StringType, FloatType, DateType, IntegerType\n",
    "from pyspark.sql.functions import col, regexp_replace, sum, round as sparkRound, split, coalesce\n",
    "\n",
    "# matplotlib for graphing\n",
    "import matplotlib.pyplot as plt\n",
    "from matplotlib.dates import date2num\n",
    "\n",
    "# pathlib's Path for more robustly checking if a file exists (very lightweight)\n",
    "from pathlib import Path\n",
    "\n",
    "# seaborn for more complex graphing, regplot for line of best fit\n",
    "from seaborn import regplot\n",
    "#scipy for more verbose spearman and pearson functions\n",
    "from scipy.stats import spearmanr, pearsonr\n",
    "\n",
    "# NumPy's percentile function\n",
    "from numpy import percentile"
   ]
  },
  {
   "cell_type": "code",
   "execution_count": 2,
   "id": "c2c1a851",
   "metadata": {},
   "outputs": [],
   "source": [
    "#Initialise session\n",
    "spark = SparkSession\\\n",
    "    .builder\\\n",
    "    .appName(\"Python Spark\")\\\n",
    "    .getOrCreate()\n",
    "\n",
    "\n",
    "#Suppress warnings about schema being different to the file header\n",
    "spark.sparkContext.setLogLevel(\"ERROR\")"
   ]
  },
  {
   "cell_type": "code",
   "execution_count": 3,
   "id": "14dff996",
   "metadata": {},
   "outputs": [],
   "source": [
    "class data:\n",
    "# Create a funtion to accept a dataframe with longitude and latitude columns, as well as an integer of how many decimal places\n",
    "# the numbers should be rounded to. The dataframe is returned with all columns, with the new longitude and latitude columns\n",
    "# in place of the old ones.\n",
    "    def roundLongLat(dataframe, decimals):\n",
    "        if(\"Longitude\" in dataframe.columns and \"Latitude\" in dataframe.columns):\n",
    "            return dataframe \\\n",
    "            .select(\"*\",sparkRound(\"Longitude\", decimals)) \\\n",
    "            .select(\"*\",sparkRound(\"Latitude\", decimals)) \\\n",
    "            .drop(\"Longitude\", \"Latitude\") \\\n",
    "            .withColumnRenamed(\"round(Longitude, {0})\".format(decimals), \"Longitude\") \\\n",
    "            .withColumnRenamed(\"round(Latitude, {0})\".format(decimals), \"Latitude\")\n",
    "        else:\n",
    "            raise Exception(\"Longitude or Latitude column is not present\")\n",
    "    \n",
    "    \n",
    "#Function to read the data of a given path, schema, with a header attribute as not all datasets do or do not have one.\n",
    "#Header is assumed true but can be specified\n",
    "    def read_data(data_path, schema, header = \"true\"):\n",
    "        if (Path(data_path).is_file()):\n",
    "            dataframe = spark.read.load(data_path, \\\n",
    "                    format=\"csv\", \\\n",
    "                    sep=\",\", \\\n",
    "                    schema=schema, \\\n",
    "                    header=header)\n",
    "            \n",
    "            if(\"Longitude\" in dataframe.columns and \"Latitude\" in dataframe.columns):\n",
    "                dataframe = data.roundLongLat(dataframe, LONG_LAT_ROUNDING)\n",
    "                \n",
    "            return dataframe\n",
    "        \n",
    "        else:\n",
    "            raise Exception(\"File {0} does not exist\".format(data_path))\n",
    "            \n",
    "# Create a function to accept a dataframe, that returns a pandas dataframe with the index as a timeseries.\n",
    "# Function assumes there is a column called Date, that is selected, used to group the dataframe, counted, reformatted to\n",
    "# a pandas dataframe and as the index. A two column dataframe is always returned. \n",
    "# The index is the date, in order from oldest to newest, with a corresponding frequency column (a frequency timeseries).\n",
    "\n",
    "    def toTimeseries(dataframe):\n",
    "        if (\"Date\" in dataframe.columns):\n",
    "            return dataframe.select(\"Date\") \\\n",
    "            .groupBy(\"Date\") \\\n",
    "            .count() \\\n",
    "            .orderBy(\"Date\") \\\n",
    "            .toPandas() \\\n",
    "            .rename(columns={\"count\": \"Frequency\"}) \\\n",
    "            .set_index(\"Date\")\n",
    "        else:\n",
    "            raise Exception(\"Dataframe has no \\\"Date\\\" Column\")"
   ]
  },
  {
   "cell_type": "code",
   "execution_count": 4,
   "id": "6634b59e",
   "metadata": {},
   "outputs": [],
   "source": [
    "#location of the datasets, change as necessary\n",
    "# sample and full datasets changed by comments\n",
    "\n",
    "# CRIME_FILE_PATH = \"./data/Sample_1pc_Data.csv\"\n",
    "CRIME_FILE_PATH = \"./data/all_crimes21_hdr.txt\"\n",
    "POSTCODE_FILE_PATH = \"./data/postcodes.csv\"\n",
    "LONG_LAT_POSTCODE_FILE_PATH = \"./data/posttrans.csv\"\n",
    "\n",
    "#static value for how much the long/lat values should be rounded. This needs to be consistent for comparison.\n",
    "LONG_LAT_ROUNDING = 4"
   ]
  },
  {
   "cell_type": "markdown",
   "id": "cd0781a3",
   "metadata": {},
   "source": [
    "Load crime data, select useful columns, rename month to date and display a small sample. Contains all crimes, locations and outcomes. This is the main data."
   ]
  },
  {
   "cell_type": "code",
   "execution_count": 5,
   "id": "6b6cbeda",
   "metadata": {
    "scrolled": true
   },
   "outputs": [
    {
     "name": "stdout",
     "output_type": "stream",
     "text": [
      "+----------+---------+--------+---------------------+---------------------+\n",
      "|Date      |Longitude|Latitude|Crime type           |Last outcome category|\n",
      "+----------+---------+--------+---------------------+---------------------+\n",
      "|2010-12-01|-0.8056  |51.8191 |Other crime          |null                 |\n",
      "|2010-12-01|-2.4944  |51.4182 |Anti-social behaviour|null                 |\n",
      "|2010-12-01|-2.5119  |51.4094 |Anti-social behaviour|null                 |\n",
      "|2010-12-01|-2.5116  |51.4149 |Anti-social behaviour|null                 |\n",
      "|2010-12-01|-2.5119  |51.4094 |Anti-social behaviour|null                 |\n",
      "+----------+---------+--------+---------------------+---------------------+\n",
      "only showing top 5 rows\n",
      "\n"
     ]
    }
   ],
   "source": [
    "#schema for the crime data dataset\n",
    "crimeSchema = StructType([ \\\n",
    "    StructField(\"Crime ID\",StringType(),True), \\\n",
    "    StructField(\"Date\",DateType(),False), \\\n",
    "    StructField(\"Reported by\",StringType(),True), \\\n",
    "    StructField(\"Falls within\", StringType(), True), \\\n",
    "    StructField(\"Longitude\", FloatType(), True), \\\n",
    "    StructField(\"Latitude\", FloatType(), True), \\\n",
    "    StructField(\"Location\", StringType(), True), \\\n",
    "    StructField(\"LSOA code\", StringType(), True), \\\n",
    "    StructField(\"LSOA name\", StringType(), True), \\\n",
    "    StructField(\"Crime type\", StringType(), False), \\\n",
    "    StructField(\"Last outcome category\", StringType(), True), \\\n",
    "    StructField(\"Context\", StringType(), True) \\\n",
    "  ])\n",
    "\n",
    "#load crime data\n",
    "df = data.read_data(CRIME_FILE_PATH, crimeSchema, header = \"true\")\n",
    "\n",
    "#select only necessary data\n",
    "df = df.select(\"Date\", \"Longitude\", \"Latitude\", \"Crime type\", \"Last outcome category\")\n",
    "\n",
    "#display a sample\n",
    "df.show(5, truncate=False)"
   ]
  },
  {
   "cell_type": "markdown",
   "id": "5e511168",
   "metadata": {},
   "source": [
    "Same for postcode/district data. Used to get district and population info"
   ]
  },
  {
   "cell_type": "code",
   "execution_count": 6,
   "id": "c19b6cf5",
   "metadata": {
    "scrolled": true
   },
   "outputs": [
    {
     "name": "stdout",
     "output_type": "stream",
     "text": [
      "+--------+---------+--------+-------------+----------+\n",
      "|Postcode|Longitude|Latitude|District     |Population|\n",
      "+--------+---------+--------+-------------+----------+\n",
      "|AB1 0AA |-2.2429  |57.1015 |Aberdeen City|null      |\n",
      "|AB1 0AB |-2.2463  |57.1026 |Aberdeen City|null      |\n",
      "|AB1 0AD |-2.2483  |57.1006 |Aberdeen City|null      |\n",
      "|AB1 0AE |-2.2557  |57.0844 |Aberdeenshire|null      |\n",
      "|AB1 0AF |-2.2581  |57.0967 |Aberdeen City|null      |\n",
      "+--------+---------+--------+-------------+----------+\n",
      "only showing top 5 rows\n",
      "\n"
     ]
    }
   ],
   "source": [
    "#schema for the postcode dataset\n",
    "postcodeSchema = StructType([ \\\n",
    "    StructField(\"Postcode\",StringType(),False), \\\n",
    "    StructField(\"InUse?\",StringType(),True), \\\n",
    "    StructField(\"Latitude\",StringType(),True), \\\n",
    "    StructField(\"Longitude\", StringType(), True), \\\n",
    "    StructField(\"Easting\", StringType(), True), \\\n",
    "    StructField(\"Northing\", StringType(), True), \\\n",
    "    StructField(\"GridRef\", StringType(), True), \\\n",
    "    StructField(\"County\", StringType(), True), \\\n",
    "    StructField(\"District\", StringType(), True), \\\n",
    "    StructField(\"Ward\", StringType(), True), \\\n",
    "    StructField(\"DistrictCode\", StringType(), True), \\\n",
    "    StructField(\"WardCode\", StringType(), True), \\\n",
    "    StructField(\"Country\", StringType(), True), \\\n",
    "    StructField(\"CountyCode\", StringType(), True), \\\n",
    "    StructField(\"Constituency\", StringType(), True), \\\n",
    "    StructField(\"Introduced\", StringType(), True), \\\n",
    "    StructField(\"Terminated\", StringType(), True), \\\n",
    "    StructField(\"Parish\", StringType(), True), \\\n",
    "    StructField(\"NationalPark\", StringType(), True), \\\n",
    "    StructField(\"Population\", IntegerType(), True), \\\n",
    "    StructField(\"Households\", StringType(), True), \\\n",
    "    StructField(\"BuiltUpArea\", StringType(), True), \\\n",
    "    StructField(\"Builtupsubdivision\", StringType(), True), \\\n",
    "    StructField(\"Lowerlayersuperoutputarea\", StringType(), True), \\\n",
    "    StructField(\"Rural/urban\", StringType(), True), \\\n",
    "    StructField(\"Region\", StringType(), True), \\\n",
    "    StructField(\"Altitude\", StringType(), True) \\\n",
    "])\n",
    "\n",
    "#load postcode data\n",
    "df_postcode = data.read_data(POSTCODE_FILE_PATH, postcodeSchema, header = \"false\")\n",
    "df_postcode = df_postcode.select(\"Postcode\", \"Longitude\", \"Latitude\", \"District\", \"Population\")\n",
    "df_postcode.show(5, truncate=False)"
   ]
  },
  {
   "cell_type": "markdown",
   "id": "83bfc219",
   "metadata": {},
   "source": [
    "Same for long/lat postcode data. Used to convert between a long lat and postcode later"
   ]
  },
  {
   "cell_type": "code",
   "execution_count": 7,
   "id": "6e8c2da6",
   "metadata": {
    "scrolled": false
   },
   "outputs": [
    {
     "name": "stdout",
     "output_type": "stream",
     "text": [
      "+--------+---------+--------+\n",
      "|Postcode|Longitude|Latitude|\n",
      "+--------+---------+--------+\n",
      "|HP20 1BL|-0.8056  |51.8191 |\n",
      "|BS31 2BT|-2.4944  |51.4182 |\n",
      "|BS31 2PJ|-2.5119  |51.4094 |\n",
      "|BS31 2EG|-2.5116  |51.4149 |\n",
      "|BS31 2LQ|-2.5133  |51.4095 |\n",
      "+--------+---------+--------+\n",
      "only showing top 5 rows\n",
      "\n"
     ]
    }
   ],
   "source": [
    "#schema for the long lat postcode dataset\n",
    "longLatPostSchema = StructType([ \\\n",
    "    StructField(\"Postcode\",StringType(),False), \\\n",
    "    StructField(\"Longitude\",FloatType(),False), \\\n",
    "    StructField(\"Latitude\",FloatType(),False) \\\n",
    "  ])\n",
    "\n",
    "#load long lat postcode dataset\n",
    "df_LongLatToPostcode = data.read_data(LONG_LAT_POSTCODE_FILE_PATH, longLatPostSchema, header = \"true\")\n",
    "\n",
    "#display a sample of the long lat postcode dataset\n",
    "df_LongLatToPostcode.show(5, truncate=False)"
   ]
  },
  {
   "cell_type": "markdown",
   "id": "51d9ecad",
   "metadata": {},
   "source": [
    "# 3) Data Extraction and Filtering ... _code_, 10 Marks\n",
    "### includes System running, test and diagnostics, \n",
    "\n",
    "1.\tFilter the dataset so that crimes refer to appropriate crimes only\n",
    "2.  To see whether crime categories are increasing, you will also need to extract them as a time series.\n",
    "\n",
    "You should be using diagnostic checks throughout this report."
   ]
  },
  {
   "cell_type": "code",
   "execution_count": 8,
   "id": "b67ad064",
   "metadata": {
    "scrolled": false
   },
   "outputs": [
    {
     "data": {
      "text/html": [
       "<div>\n",
       "<style scoped>\n",
       "    .dataframe tbody tr th:only-of-type {\n",
       "        vertical-align: middle;\n",
       "    }\n",
       "\n",
       "    .dataframe tbody tr th {\n",
       "        vertical-align: top;\n",
       "    }\n",
       "\n",
       "    .dataframe thead th {\n",
       "        text-align: right;\n",
       "    }\n",
       "</style>\n",
       "<table border=\"1\" class=\"dataframe\">\n",
       "  <thead>\n",
       "    <tr style=\"text-align: right;\">\n",
       "      <th></th>\n",
       "      <th>Frequency</th>\n",
       "    </tr>\n",
       "    <tr>\n",
       "      <th>Date</th>\n",
       "      <th></th>\n",
       "    </tr>\n",
       "  </thead>\n",
       "  <tbody>\n",
       "    <tr>\n",
       "      <th>2010-12-01</th>\n",
       "      <td>57580</td>\n",
       "    </tr>\n",
       "    <tr>\n",
       "      <th>2011-01-01</th>\n",
       "      <td>59823</td>\n",
       "    </tr>\n",
       "    <tr>\n",
       "      <th>2011-02-01</th>\n",
       "      <td>56691</td>\n",
       "    </tr>\n",
       "    <tr>\n",
       "      <th>2011-03-01</th>\n",
       "      <td>62326</td>\n",
       "    </tr>\n",
       "    <tr>\n",
       "      <th>2011-04-01</th>\n",
       "      <td>64299</td>\n",
       "    </tr>\n",
       "    <tr>\n",
       "      <th>...</th>\n",
       "      <td>...</td>\n",
       "    </tr>\n",
       "    <tr>\n",
       "      <th>2021-01-01</th>\n",
       "      <td>141414</td>\n",
       "    </tr>\n",
       "    <tr>\n",
       "      <th>2021-02-01</th>\n",
       "      <td>135101</td>\n",
       "    </tr>\n",
       "    <tr>\n",
       "      <th>2021-03-01</th>\n",
       "      <td>166668</td>\n",
       "    </tr>\n",
       "    <tr>\n",
       "      <th>2021-04-01</th>\n",
       "      <td>153789</td>\n",
       "    </tr>\n",
       "    <tr>\n",
       "      <th>2021-05-01</th>\n",
       "      <td>171614</td>\n",
       "    </tr>\n",
       "  </tbody>\n",
       "</table>\n",
       "<p>126 rows × 1 columns</p>\n",
       "</div>"
      ],
      "text/plain": [
       "            Frequency\n",
       "Date                 \n",
       "2010-12-01      57580\n",
       "2011-01-01      59823\n",
       "2011-02-01      56691\n",
       "2011-03-01      62326\n",
       "2011-04-01      64299\n",
       "...               ...\n",
       "2021-01-01     141414\n",
       "2021-02-01     135101\n",
       "2021-03-01     166668\n",
       "2021-04-01     153789\n",
       "2021-05-01     171614\n",
       "\n",
       "[126 rows x 1 columns]"
      ]
     },
     "metadata": {},
     "output_type": "display_data"
    }
   ],
   "source": [
    "# Create a dataframe of all violent crimes (both \"violent crime\" and \"violence and sexual offences\") - this was changed in 2013.\n",
    "# Combine the data into a single dataframe, group by date, order it as a timeseries and use the date as the dataframe index.\n",
    "# This allows for significantly easier processing when displaying this as a timeseries graph later.\n",
    "\n",
    "df_violence_timeseries = data.toTimeseries( \\\n",
    "                        df.filter((col(\"Crime type\") == \"Violent crime\") |\n",
    "                                  (col(\"Crime type\") == \"Violence and sexual offences\")))\n",
    "\n",
    "#display a sample of the pandas dataframe\n",
    "display(df_violence_timeseries)"
   ]
  },
  {
   "cell_type": "code",
   "execution_count": 9,
   "id": "a8e30629",
   "metadata": {},
   "outputs": [
    {
     "data": {
      "text/html": [
       "<div>\n",
       "<style scoped>\n",
       "    .dataframe tbody tr th:only-of-type {\n",
       "        vertical-align: middle;\n",
       "    }\n",
       "\n",
       "    .dataframe tbody tr th {\n",
       "        vertical-align: top;\n",
       "    }\n",
       "\n",
       "    .dataframe thead th {\n",
       "        text-align: right;\n",
       "    }\n",
       "</style>\n",
       "<table border=\"1\" class=\"dataframe\">\n",
       "  <thead>\n",
       "    <tr style=\"text-align: right;\">\n",
       "      <th></th>\n",
       "      <th>Frequency</th>\n",
       "    </tr>\n",
       "    <tr>\n",
       "      <th>Date</th>\n",
       "      <th></th>\n",
       "    </tr>\n",
       "  </thead>\n",
       "  <tbody>\n",
       "    <tr>\n",
       "      <th>2010-12-01</th>\n",
       "      <td>57580</td>\n",
       "    </tr>\n",
       "    <tr>\n",
       "      <th>2011-01-01</th>\n",
       "      <td>59823</td>\n",
       "    </tr>\n",
       "    <tr>\n",
       "      <th>2011-02-01</th>\n",
       "      <td>56691</td>\n",
       "    </tr>\n",
       "    <tr>\n",
       "      <th>2011-03-01</th>\n",
       "      <td>62326</td>\n",
       "    </tr>\n",
       "    <tr>\n",
       "      <th>2011-04-01</th>\n",
       "      <td>64299</td>\n",
       "    </tr>\n",
       "  </tbody>\n",
       "</table>\n",
       "</div>"
      ],
      "text/plain": [
       "            Frequency\n",
       "Date                 \n",
       "2010-12-01      57580\n",
       "2011-01-01      59823\n",
       "2011-02-01      56691\n",
       "2011-03-01      62326\n",
       "2011-04-01      64299"
      ]
     },
     "metadata": {},
     "output_type": "display_data"
    }
   ],
   "source": [
    "# get crime data classified only as \"violent crime\", rather than both \"violent crime\" and \"violence and sexual offences\"\n",
    "df_just_violence_timeseries = data.toTimeseries( \\\n",
    "                        df.filter(col(\"Crime type\") == \"Violent crime\"))\n",
    "\n",
    "#display a sample of the pandas dataframe\n",
    "display(df_just_violence_timeseries[:5])"
   ]
  },
  {
   "cell_type": "code",
   "execution_count": 10,
   "id": "8fb4a1e6",
   "metadata": {
    "scrolled": true
   },
   "outputs": [
    {
     "name": "stdout",
     "output_type": "stream",
     "text": [
      "+----------+---------+--------+\n",
      "|Date      |Longitude|Latitude|\n",
      "+----------+---------+--------+\n",
      "|2013-05-01|-2.5953  |51.4907 |\n",
      "|2013-05-01|-2.5167  |51.4765 |\n",
      "|2013-05-01|-2.576   |51.4705 |\n",
      "|2013-05-01|-2.5698  |51.4661 |\n",
      "|2013-05-01|-2.5672  |51.4635 |\n",
      "+----------+---------+--------+\n",
      "only showing top 5 rows\n",
      "\n",
      "Total firearms incidents: 10416\n",
      "Total firearms incidents that provide a longitude and latitude: 10122\n",
      "294 firearm incidents did not provide a long/lat location. Ignoring these from the dataset.\n"
     ]
    }
   ],
   "source": [
    "#As per the assignment brief, a \"firearms incident\" is defined by a \"possession of weapons\" whose outcome is\n",
    "#\"offender sent to prison\". This is further narrowed to include only incidents where the longitude and latitude is also present\n",
    "\n",
    "# df_firearms is a dataframe containing the date and location of all firearms incidents.\n",
    "\n",
    "# filter only firearm incidents\n",
    "df_firearms_total = df.filter((col(\"Crime type\") == \"Possession of weapons\") &\n",
    "                       (col(\"Last outcome category\") == \"Offender sent to prison\")) \\\n",
    "                .select(\"Date\", \"Longitude\", \"Latitude\") \\\n",
    "                .orderBy(\"Date\")\n",
    "\n",
    "\n",
    "# filter to only include firearm incidents that have a location\n",
    "df_firearms = df_firearms_total.filter((col(\"Longitude\").isNull() == False) &\n",
    "                        (col(\"Latitude\").isNull() == False))\n",
    "\n",
    "# count how many incidents were dropped\n",
    "total_firearm_incidents = df_firearms_total.count()\n",
    "total_firearm_incidents_long_lat = df_firearms.count()\n",
    "\n",
    "# show a sample of the dataframe\n",
    "df_firearms.show(5, truncate=False)\n",
    "\n",
    "# nicely display number of incidents, and how many were dropped\n",
    "print(\"Total firearms incidents: {0}\".format(total_firearm_incidents))\n",
    "print(\"Total firearms incidents that provide a longitude and latitude: {0}\".format(total_firearm_incidents_long_lat))\n",
    "print(\"{0} firearm incidents did not provide a long/lat location. Ignoring these from the dataset.\".format(total_firearm_incidents - total_firearm_incidents_long_lat))"
   ]
  },
  {
   "cell_type": "code",
   "execution_count": 11,
   "id": "f5e4de52",
   "metadata": {},
   "outputs": [
    {
     "name": "stdout",
     "output_type": "stream",
     "text": [
      "+----------+---------+--------+\n",
      "|Date      |Longitude|Latitude|\n",
      "+----------+---------+--------+\n",
      "|2011-09-01|-7.2733  |54.5379 |\n",
      "|2011-09-01|-6.2764  |54.8557 |\n",
      "|2011-09-01|-6.3308  |54.4711 |\n",
      "|2011-09-01|-6.7029  |54.5354 |\n",
      "|2011-09-01|-6.0252  |54.5603 |\n",
      "+----------+---------+--------+\n",
      "only showing top 5 rows\n",
      "\n",
      "Total drug incidents: 1682486\n",
      "Total drug incidents that provide a longitude and latitude: 1636770\n",
      "45716 drug incidents did not provide a long/lat location. Ignoring these from the dataset.\n"
     ]
    }
   ],
   "source": [
    "# df_drugs is a dataframe containing the date and location of all drug crimes.\n",
    "\n",
    "# filter only drug crimes\n",
    "df_drugs_total = df.filter(col(\"Crime type\") == \"Drugs\") \\\n",
    "                .select(\"Date\", \"Longitude\", \"Latitude\") \\\n",
    "                .orderBy(\"Date\")\n",
    "\n",
    "# filter to only include drug crimes that have a location\n",
    "df_drugs = df_drugs_total.filter((col(\"Longitude\").isNull() == False) &\n",
    "                        (col(\"Latitude\").isNull() == False))\n",
    "\n",
    "# count how many incidents were dropped\n",
    "total_drug_incidents = df_drugs_total.count()\n",
    "total_drugs_incidents_long_lat = df_drugs.count()\n",
    "\n",
    "# show a sample of the dataframe\n",
    "df_drugs.show(5, truncate=False)\n",
    "\n",
    "# nicely display number of incidents, and how many were dropped\n",
    "print(\"Total drug incidents: {0}\".format(total_drug_incidents))\n",
    "print(\"Total drug incidents that provide a longitude and latitude: {0}\".format(total_drugs_incidents_long_lat))\n",
    "print(\"{0} drug incidents did not provide a long/lat location. Ignoring these from the dataset.\".format(total_drug_incidents - total_drugs_incidents_long_lat))"
   ]
  },
  {
   "cell_type": "code",
   "execution_count": 12,
   "id": "eab9591a",
   "metadata": {},
   "outputs": [
    {
     "name": "stdout",
     "output_type": "stream",
     "text": [
      "Firearms:\n"
     ]
    },
    {
     "data": {
      "text/html": [
       "<div>\n",
       "<style scoped>\n",
       "    .dataframe tbody tr th:only-of-type {\n",
       "        vertical-align: middle;\n",
       "    }\n",
       "\n",
       "    .dataframe tbody tr th {\n",
       "        vertical-align: top;\n",
       "    }\n",
       "\n",
       "    .dataframe thead th {\n",
       "        text-align: right;\n",
       "    }\n",
       "</style>\n",
       "<table border=\"1\" class=\"dataframe\">\n",
       "  <thead>\n",
       "    <tr style=\"text-align: right;\">\n",
       "      <th></th>\n",
       "      <th>Frequency</th>\n",
       "    </tr>\n",
       "    <tr>\n",
       "      <th>Date</th>\n",
       "      <th></th>\n",
       "    </tr>\n",
       "  </thead>\n",
       "  <tbody>\n",
       "    <tr>\n",
       "      <th>2013-05-01</th>\n",
       "      <td>182</td>\n",
       "    </tr>\n",
       "    <tr>\n",
       "      <th>2013-06-01</th>\n",
       "      <td>162</td>\n",
       "    </tr>\n",
       "    <tr>\n",
       "      <th>2013-07-01</th>\n",
       "      <td>161</td>\n",
       "    </tr>\n",
       "    <tr>\n",
       "      <th>2013-08-01</th>\n",
       "      <td>186</td>\n",
       "    </tr>\n",
       "    <tr>\n",
       "      <th>2013-09-01</th>\n",
       "      <td>174</td>\n",
       "    </tr>\n",
       "  </tbody>\n",
       "</table>\n",
       "</div>"
      ],
      "text/plain": [
       "            Frequency\n",
       "Date                 \n",
       "2013-05-01        182\n",
       "2013-06-01        162\n",
       "2013-07-01        161\n",
       "2013-08-01        186\n",
       "2013-09-01        174"
      ]
     },
     "metadata": {},
     "output_type": "display_data"
    },
    {
     "name": "stdout",
     "output_type": "stream",
     "text": [
      "Drugs:\n"
     ]
    },
    {
     "data": {
      "text/html": [
       "<div>\n",
       "<style scoped>\n",
       "    .dataframe tbody tr th:only-of-type {\n",
       "        vertical-align: middle;\n",
       "    }\n",
       "\n",
       "    .dataframe tbody tr th {\n",
       "        vertical-align: top;\n",
       "    }\n",
       "\n",
       "    .dataframe thead th {\n",
       "        text-align: right;\n",
       "    }\n",
       "</style>\n",
       "<table border=\"1\" class=\"dataframe\">\n",
       "  <thead>\n",
       "    <tr style=\"text-align: right;\">\n",
       "      <th></th>\n",
       "      <th>Frequency</th>\n",
       "    </tr>\n",
       "    <tr>\n",
       "      <th>Date</th>\n",
       "      <th></th>\n",
       "    </tr>\n",
       "  </thead>\n",
       "  <tbody>\n",
       "    <tr>\n",
       "      <th>2011-09-01</th>\n",
       "      <td>16926</td>\n",
       "    </tr>\n",
       "    <tr>\n",
       "      <th>2011-10-01</th>\n",
       "      <td>18448</td>\n",
       "    </tr>\n",
       "    <tr>\n",
       "      <th>2011-11-01</th>\n",
       "      <td>18267</td>\n",
       "    </tr>\n",
       "    <tr>\n",
       "      <th>2011-12-01</th>\n",
       "      <td>17366</td>\n",
       "    </tr>\n",
       "    <tr>\n",
       "      <th>2012-01-01</th>\n",
       "      <td>18199</td>\n",
       "    </tr>\n",
       "  </tbody>\n",
       "</table>\n",
       "</div>"
      ],
      "text/plain": [
       "            Frequency\n",
       "Date                 \n",
       "2011-09-01      16926\n",
       "2011-10-01      18448\n",
       "2011-11-01      18267\n",
       "2011-12-01      17366\n",
       "2012-01-01      18199"
      ]
     },
     "metadata": {},
     "output_type": "display_data"
    }
   ],
   "source": [
    "# convert pyspark dataframe with date column to a frequency timeseries pandas dataframe, categorised and indexed by date\n",
    "df_firearms_timeseries = data.toTimeseries(df_firearms_total)\n",
    "\n",
    "#same thing for drugs\n",
    "df_drugs_timeseries = data.toTimeseries(df_drugs_total)\n",
    "\n",
    "#display samples of the pandas dataframes\n",
    "print(\"Firearms:\")\n",
    "display(df_firearms_timeseries[:5])\n",
    "print(\"Drugs:\")\n",
    "display(df_drugs_timeseries[:5])"
   ]
  },
  {
   "cell_type": "code",
   "execution_count": 13,
   "id": "7a8f4b76",
   "metadata": {},
   "outputs": [
    {
     "name": "stdout",
     "output_type": "stream",
     "text": [
      "Postcodes and their corresponding district and population\n",
      "+--------+-------------+----------+\n",
      "|Postcode|District     |Population|\n",
      "+--------+-------------+----------+\n",
      "|AB10 1AJ|Aberdeen City|0         |\n",
      "|AB10 1AL|Aberdeen City|0         |\n",
      "|AB10 1AN|Aberdeen City|1         |\n",
      "|AB10 1AP|Aberdeen City|0         |\n",
      "|AB10 1AS|Aberdeen City|0         |\n",
      "+--------+-------------+----------+\n",
      "only showing top 5 rows\n",
      "\n"
     ]
    }
   ],
   "source": [
    "#select only the postcode, district and population columns, and disregard any null population values.\n",
    "#only these fields are required, and null population values are of no use.\n",
    "\n",
    "df_postcode_district_pop = df_postcode.select(\"Postcode\", \"District\", \"Population\") \\\n",
    "        .filter(col(\"Population\").isNull() == False)\n",
    "\n",
    "print(\"Postcodes and their corresponding district and population\")\n",
    "df_postcode_district_pop.show(5, truncate = False)"
   ]
  },
  {
   "cell_type": "code",
   "execution_count": 14,
   "id": "7ff42d3d",
   "metadata": {},
   "outputs": [
    {
     "name": "stdout",
     "output_type": "stream",
     "text": [
      "Population per district in the UK\n",
      "+------------+----------+\n",
      "|_District   |Population|\n",
      "+------------+----------+\n",
      "|Birmingham  |1072849   |\n",
      "|Leeds       |751490    |\n",
      "|Glasgow City|592799    |\n",
      "|Sheffield   |552744    |\n",
      "|Cornwall    |532285    |\n",
      "+------------+----------+\n",
      "only showing top 5 rows\n",
      "\n"
     ]
    }
   ],
   "source": [
    "# select only the district and population, ensure neither are null, and sum all populations in a single district\n",
    "# rename the columns sensibly, order the table and display a sample. This allows for easier processing for the firearms\n",
    "# incidents *per head* in Birmingham compared to other districts.\n",
    "\n",
    "df_district_population = df_postcode.select(\"District\", \"Population\") \\\n",
    "        .filter((col(\"Population\").isNull() == False) &\n",
    "               (col(\"District\").isNull() == False)) \\\n",
    "        .groupBy(\"District\") \\\n",
    "        .sum() \\\n",
    "        .withColumnRenamed(\"sum(Population)\", \"Population\") \\\n",
    "        .withColumnRenamed(\"District\", \"_District\") \\\n",
    "        .orderBy(\"Population\", ascending = False)\n",
    "\n",
    "print(\"Population per district in the UK\")\n",
    "df_district_population.show(5, truncate = False)"
   ]
  },
  {
   "cell_type": "code",
   "execution_count": 15,
   "id": "4b834d12",
   "metadata": {},
   "outputs": [
    {
     "name": "stdout",
     "output_type": "stream",
     "text": [
      "Total Population of the UK is 63138237\n",
      "Total Population of the UK, disregarding null districts, is 61365808\n",
      "This is a difference of 1772429\n"
     ]
    }
   ],
   "source": [
    "# count all people in the UK, as well as all people when null districts are removed. Display the difference.\n",
    "# Null districts have to be removed, and the difference is to see how much data was lost as a result of this.\n",
    "\n",
    "total_population = df_postcode_district_pop.select(sum('Population')).collect()[0][0]\n",
    "total_population_NoNulls = df_district_population.select(sum('Population')).collect()[0][0]\n",
    "print(\"Total Population of the UK is {0}\".format(total_population))\n",
    "print(\"Total Population of the UK, disregarding null districts, is {0}\".format(total_population_NoNulls))\n",
    "print(\"This is a difference of {0}\".format(total_population - total_population_NoNulls))"
   ]
  },
  {
   "cell_type": "code",
   "execution_count": 16,
   "id": "640e3a26",
   "metadata": {},
   "outputs": [
    {
     "name": "stdout",
     "output_type": "stream",
     "text": [
      "Total Firearms incidents: 10122\n",
      "Total Drugs incidents: 1636770\n",
      "Total Incidents of both firearms and drugs at the same location in the same timeframe: 4768\n"
     ]
    }
   ],
   "source": [
    "# Rename columns to be individually dropped later\n",
    "df_firearms = df_firearms.withColumnRenamed(\"Date\", \"Firearm_Date\")\n",
    "\n",
    "df_drugs = df_drugs.withColumnRenamed(\"Date\", \"Drug_Date\") \\\n",
    "                    .withColumnRenamed(\"Longitude\", \"Drug_Longitude\") \\\n",
    "                    .withColumnRenamed(\"Latitude\", \"Drug_Latitude\")\n",
    "\n",
    "# create a dataframe of all the dates and locations where both a drug offence and a firearms offence occurred.\n",
    "df_correlation_Date_Long_Lat = df_firearms.join(df_drugs, \\\n",
    "                                        (df_firearms.Firearm_Date == df_drugs.Drug_Date) &\n",
    "                                        (df_firearms.Longitude == df_drugs.Drug_Longitude) &\n",
    "                                        (df_firearms.Latitude == df_drugs.Drug_Latitude)) \\\n",
    "                                        .drop(\"Drug_Date\", \"Drug_Longitude\", \"Drug_Latitude\")\n",
    "\n",
    "num_firearm_offences = df_firearms.count()\n",
    "num_drug_offences = df_drugs.count()\n",
    "num_correlated_offences = df_correlation_Date_Long_Lat.count()\n",
    "\n",
    "print(\"Total Firearms incidents: {0}\" \\\n",
    "      .format(num_firearm_offences))\n",
    "print(\"Total Drugs incidents: {0}\" \\\n",
    "      .format(num_drug_offences))\n",
    "print(\"Total Incidents of both firearms and drugs at the same location in the same timeframe: {0}\" \\\n",
    "      .format(num_correlated_offences))"
   ]
  },
  {
   "cell_type": "code",
   "execution_count": 17,
   "id": "57bb2434",
   "metadata": {},
   "outputs": [],
   "source": [
    "# count all firearm incidents that occurred in the same location in the same timeframe\n",
    "df_firearms_freq = df_firearms.groupBy([\"Firearm_Date\", \"Longitude\", \"Latitude\"]) \\\n",
    "                                .count() \\\n",
    "                                .orderBy(\"count\", ascending = False)\n",
    "df_firearms_freq = df_firearms_freq.withColumnRenamed(\"count\", \"Firearm Incidents\")\n",
    "\n",
    "# same for drugs\n",
    "df_drugs_freq =  df_drugs.groupBy([\"Drug_Date\", \"Drug_Longitude\", \"Drug_Latitude\"]) \\\n",
    "                            .count() \\\n",
    "                            .orderBy(\"count\", ascending = False)\n",
    "df_drugs_freq = df_drugs_freq.withColumnRenamed(\"count\", \"Drug Incidents\")\n",
    "\n",
    "# same for dataframe containing both\n",
    "df_correlation_Date_Long_Lat_Freq = df_correlation_Date_Long_Lat.groupBy([\"Firearm_Date\", \"Longitude\", \"Latitude\"]) \\\n",
    "                                                                .count() \\\n",
    "                                                                .orderBy(\"count\", ascending = False)\n",
    "                                                                \n",
    "df_correlation_Date_Long_Lat_Freq = df_correlation_Date_Long_Lat_Freq.withColumnRenamed(\"count\", \"Both\")\n",
    "\n",
    "\n",
    "# create a dataframe of all the dates and locations where both a drug offence and a firearms offence occurred.\n",
    "df_correlation_frequency = df_firearms_freq.join(df_drugs_freq, \\\n",
    "                                        (df_firearms_freq.Firearm_Date == df_drugs_freq.Drug_Date) &\n",
    "                                        (df_firearms_freq.Longitude == df_drugs_freq.Drug_Longitude) &\n",
    "                                        (df_firearms_freq.Latitude == df_drugs_freq.Drug_Latitude), how=\"full\")\n",
    "\n",
    "\n",
    "df_correlation_frequency = df_correlation_frequency.join(df_correlation_Date_Long_Lat_Freq, \\\n",
    "                                        (df_firearms_freq.Firearm_Date == df_correlation_Date_Long_Lat_Freq.Firearm_Date) &\n",
    "                                        (df_firearms_freq.Longitude == df_correlation_Date_Long_Lat_Freq.Longitude) &\n",
    "                                        (df_firearms_freq.Latitude == df_correlation_Date_Long_Lat_Freq.Latitude), how=\"full\")\n",
    "\n",
    "\n",
    "df_correlation_frequency = df_correlation_frequency.select(\"Firearm Incidents\", \"Drug Incidents\", \"Both\").fillna(value=0)"
   ]
  },
  {
   "cell_type": "code",
   "execution_count": 18,
   "id": "a3f0efbb",
   "metadata": {
    "scrolled": true
   },
   "outputs": [
    {
     "name": "stdout",
     "output_type": "stream",
     "text": [
      "+--------+\n",
      "|Postcode|\n",
      "+--------+\n",
      "|BS22    |\n",
      "|BS22    |\n",
      "|CH3     |\n",
      "|L20     |\n",
      "|L13     |\n",
      "+--------+\n",
      "only showing top 5 rows\n",
      "\n",
      "Number of firearms incidents: 10122\n",
      "Number of firearm incidents mapped to postcodes: 10120\n"
     ]
    }
   ],
   "source": [
    "# drop any postcodes with the same long/lat as another postcode. This was causing inflated matching issues -\n",
    "# (matching more addresses than there was crimes)\n",
    "df_LongLatToPostcode = df_LongLatToPostcode.dropDuplicates([\"Longitude\", \"Latitude\"])\n",
    "\n",
    "#match all incidents to their corresponding postcodes. This is done to extract the district from the postcode\n",
    "# and therefore the district of the crime\n",
    "df_firearm_incidents_postcode = df_LongLatToPostcode.join(df_firearms, \\\n",
    "                                            (df_LongLatToPostcode.Longitude == df_firearms.Longitude) &\n",
    "                                            (df_LongLatToPostcode.Latitude == df_firearms.Latitude)) \\\n",
    "                                            .select(\"Postcode\")\n",
    "\n",
    "df_firearm_incidents_postcode = df_firearm_incidents_postcode \\\n",
    "                                    .withColumn('code', split(df_firearm_incidents_postcode['Postcode'], ' ') \\\n",
    "                                    .getItem(0)) \\\n",
    "                                    .select(\"code\") \\\n",
    "                                    .withColumnRenamed(\"code\", \"Postcode\")\n",
    "\n",
    "#display a small sample of the data\n",
    "df_firearm_incidents_postcode.show(5, truncate=False)\n",
    "\n",
    "#These numbers should be exactly the same. Second one higher = duplicate rounding issue, lower = rounding to too many places\n",
    "#Should never be higher as any duplicate long/lat's for different postcodes are dropped\n",
    "print(\"Number of firearms incidents: {0}\".format(df_firearms.count()))\n",
    "print(\"Number of firearm incidents mapped to postcodes: {0}\".format(df_firearm_incidents_postcode.count()))"
   ]
  },
  {
   "cell_type": "code",
   "execution_count": 19,
   "id": "32937e37",
   "metadata": {},
   "outputs": [
    {
     "name": "stdout",
     "output_type": "stream",
     "text": [
      "+--------+\n",
      "|Postcode|\n",
      "+--------+\n",
      "|CA28    |\n",
      "|CA28    |\n",
      "|CA28    |\n",
      "|CA28    |\n",
      "|CA28    |\n",
      "+--------+\n",
      "only showing top 5 rows\n",
      "\n",
      "Number of drug incidents: 1636770\n",
      "Number of drug incidents mapped to postcodes: 1634387\n"
     ]
    }
   ],
   "source": [
    "#match all incidents to their corresponding postcodes. This is done to extract the district from the postcode\n",
    "# and therefore the district of the crime\n",
    "df_drug_incidents_postcode = df_LongLatToPostcode.join(df_drugs, \\\n",
    "                                            (df_LongLatToPostcode.Longitude == df_drugs.Drug_Longitude) &\n",
    "                                            (df_LongLatToPostcode.Latitude == df_drugs.Drug_Latitude)) \\\n",
    "                                            .select(\"Postcode\")\n",
    "\n",
    "df_drug_incidents_postcode = df_drug_incidents_postcode \\\n",
    "                                    .withColumn('code', split(df_drug_incidents_postcode['Postcode'], ' ') \\\n",
    "                                    .getItem(0)) \\\n",
    "                                    .select(\"code\") \\\n",
    "                                    .withColumnRenamed(\"code\", \"Postcode\")\n",
    "\n",
    "#display a small sample of the data\n",
    "df_drug_incidents_postcode.show(5, truncate=False)\n",
    "\n",
    "#These numbers should be exactly the same. Second one higher = duplicate rounding issue, lower = rounding to too many places\n",
    "#Should never be higher as any duplicate long/lat's for different postcodes are dropped\n",
    "print(\"Number of drug incidents: {0}\".format(df_drugs.count()))\n",
    "print(\"Number of drug incidents mapped to postcodes: {0}\".format(df_drug_incidents_postcode.count()))"
   ]
  },
  {
   "cell_type": "code",
   "execution_count": 20,
   "id": "0ff94f76",
   "metadata": {
    "scrolled": false
   },
   "outputs": [
    {
     "data": {
      "text/html": [
       "<div>\n",
       "<style scoped>\n",
       "    .dataframe tbody tr th:only-of-type {\n",
       "        vertical-align: middle;\n",
       "    }\n",
       "\n",
       "    .dataframe tbody tr th {\n",
       "        vertical-align: top;\n",
       "    }\n",
       "\n",
       "    .dataframe thead th {\n",
       "        text-align: right;\n",
       "    }\n",
       "</style>\n",
       "<table border=\"1\" class=\"dataframe\">\n",
       "  <thead>\n",
       "    <tr style=\"text-align: right;\">\n",
       "      <th></th>\n",
       "      <th>Firearm_Frequency</th>\n",
       "      <th>Drug_Frequency</th>\n",
       "      <th>Postcode</th>\n",
       "    </tr>\n",
       "  </thead>\n",
       "  <tbody>\n",
       "    <tr>\n",
       "      <th>0</th>\n",
       "      <td>6</td>\n",
       "      <td>496</td>\n",
       "      <td>CT17</td>\n",
       "    </tr>\n",
       "    <tr>\n",
       "      <th>1</th>\n",
       "      <td>2</td>\n",
       "      <td>311</td>\n",
       "      <td>DL6</td>\n",
       "    </tr>\n",
       "    <tr>\n",
       "      <th>2</th>\n",
       "      <td>0</td>\n",
       "      <td>30</td>\n",
       "      <td>IP15</td>\n",
       "    </tr>\n",
       "    <tr>\n",
       "      <th>3</th>\n",
       "      <td>4</td>\n",
       "      <td>1218</td>\n",
       "      <td>L19</td>\n",
       "    </tr>\n",
       "    <tr>\n",
       "      <th>4</th>\n",
       "      <td>8</td>\n",
       "      <td>514</td>\n",
       "      <td>M19</td>\n",
       "    </tr>\n",
       "    <tr>\n",
       "      <th>...</th>\n",
       "      <td>...</td>\n",
       "      <td>...</td>\n",
       "      <td>...</td>\n",
       "    </tr>\n",
       "    <tr>\n",
       "      <th>2111</th>\n",
       "      <td>1</td>\n",
       "      <td>335</td>\n",
       "      <td>RM20</td>\n",
       "    </tr>\n",
       "    <tr>\n",
       "      <th>2112</th>\n",
       "      <td>0</td>\n",
       "      <td>60</td>\n",
       "      <td>S17</td>\n",
       "    </tr>\n",
       "    <tr>\n",
       "      <th>2113</th>\n",
       "      <td>10</td>\n",
       "      <td>1775</td>\n",
       "      <td>SW18</td>\n",
       "    </tr>\n",
       "    <tr>\n",
       "      <th>2114</th>\n",
       "      <td>1</td>\n",
       "      <td>720</td>\n",
       "      <td>TW1</td>\n",
       "    </tr>\n",
       "    <tr>\n",
       "      <th>2115</th>\n",
       "      <td>5</td>\n",
       "      <td>1031</td>\n",
       "      <td>W4</td>\n",
       "    </tr>\n",
       "  </tbody>\n",
       "</table>\n",
       "<p>2116 rows × 3 columns</p>\n",
       "</div>"
      ],
      "text/plain": [
       "      Firearm_Frequency  Drug_Frequency Postcode\n",
       "0                     6             496     CT17\n",
       "1                     2             311      DL6\n",
       "2                     0              30     IP15\n",
       "3                     4            1218      L19\n",
       "4                     8             514      M19\n",
       "...                 ...             ...      ...\n",
       "2111                  1             335     RM20\n",
       "2112                  0              60      S17\n",
       "2113                 10            1775     SW18\n",
       "2114                  1             720      TW1\n",
       "2115                  5            1031       W4\n",
       "\n",
       "[2116 rows x 3 columns]"
      ]
     },
     "metadata": {},
     "output_type": "display_data"
    }
   ],
   "source": [
    "df_firearm_postcode_frequency = df_firearm_incidents_postcode.groupBy(\"Postcode\").count()\n",
    "df_firearm_postcode_frequency = df_firearm_postcode_frequency.withColumnRenamed(\"count\", \"Firearm_Frequency\")\n",
    "df_firearm_postcode_frequency = df_firearm_postcode_frequency.withColumnRenamed(\"Postcode\", \"Firearm_Postcode\")\n",
    "df_drug_postcode_frequency = df_drug_incidents_postcode.groupBy(\"Postcode\").count()\n",
    "df_drug_postcode_frequency = df_drug_postcode_frequency.withColumnRenamed(\"count\", \"Drug_Frequency\")\n",
    "df_drug_postcode_frequency = df_drug_postcode_frequency.withColumnRenamed(\"Postcode\", \"Drug_Postcode\")\n",
    "\n",
    "df_postcode_frequency = df_firearm_postcode_frequency.join(df_drug_postcode_frequency, \\\n",
    "                 df_firearm_postcode_frequency.Firearm_Postcode == df_drug_postcode_frequency.Drug_Postcode, how=\"full\")\n",
    "\n",
    "df_postcode_frequency = df_postcode_frequency.withColumn(\"Postcode\", \\\n",
    "                                                         coalesce(df_postcode_frequency.Drug_Postcode, \\\n",
    "                                                                  df_postcode_frequency.Firearm_Postcode))\n",
    "\n",
    "df_postcode_frequency = df_postcode_frequency.drop(\"Firearm_Postcode\", \"Drug_Postcode\").fillna(value=0)\n",
    "df_postcode_frequency_pd = df_postcode_frequency.toPandas()\n",
    "display(df_postcode_frequency_pd)"
   ]
  },
  {
   "cell_type": "code",
   "execution_count": 21,
   "id": "dd4cf7b1",
   "metadata": {},
   "outputs": [
    {
     "name": "stdout",
     "output_type": "stream",
     "text": [
      "+--------+---------------+\n",
      "|Postcode|District       |\n",
      "+--------+---------------+\n",
      "|CT17    |Dover          |\n",
      "|DL6     |Hambleton      |\n",
      "|HS7     |Eilean Siar    |\n",
      "|IP15    |Suffolk Coastal|\n",
      "|L19     |Liverpool      |\n",
      "+--------+---------------+\n",
      "only showing top 5 rows\n",
      "\n",
      "2734\n"
     ]
    }
   ],
   "source": [
    "df_postcode_district_pop_short = df_postcode_district_pop.withColumn('code', split(df_postcode_district_pop['Postcode'], ' ') \\\n",
    "                                    .getItem(0)) \\\n",
    "                                    .select(\"code\", \"District\") \\\n",
    "                                    .withColumnRenamed(\"code\", \"Postcode\") \\\n",
    "                                    .filter((col(\"Postcode\").isNull() == False) &\n",
    "                                           (col(\"District\").isNull() == False)) \\\n",
    "                                    .dropDuplicates([\"Postcode\"])\n",
    "\n",
    "df_postcode_district_pop_short.show(5, truncate=False)\n",
    "print(df_postcode_district_pop_short.count())"
   ]
  },
  {
   "cell_type": "code",
   "execution_count": 22,
   "id": "a54b7072",
   "metadata": {},
   "outputs": [],
   "source": [
    "df_firearm_incidents_district = df_firearm_incidents_postcode.join(df_postcode_district_pop_short, \\\n",
    "                                (df_firearm_incidents_postcode.Postcode == df_postcode_district_pop_short.Postcode))\n",
    "\n",
    "df_firearm_incidents_district = df_firearm_incidents_district.drop(\"Postcode\") \\\n",
    "        .groupBy(\"District\") \\\n",
    "        .count() \\\n",
    "        .withColumnRenamed(\"count\", \"Incidents\") \\\n",
    "        .join(df_district_population, \\\n",
    "               (df_firearm_incidents_district[\"District\"] == df_district_population[\"_District\"])) \\\n",
    "        .drop(\"_District\")\n",
    "\n",
    "\n",
    "df_firearm_incidents_district = df_firearm_incidents_district.withColumn(\"Incidents Per 100,000 People\", \\\n",
    "                (sparkRound(df_firearm_incidents_district[\"Incidents\"] / df_firearm_incidents_district[\"Population\"] * 100000, 5))) \\\n",
    "        .orderBy(\"Incidents Per 100,000 People\", ascending=False) \\\n",
    "        .toPandas()"
   ]
  },
  {
   "cell_type": "markdown",
   "id": "1f29cb69",
   "metadata": {},
   "source": [
    "# 4) Design, Development and reasoning behind use of multiple visualization methods, statistics, and machine learning Models,  _markdown_, _code_,  _markdown_, 20 Marks\n",
    "\n",
    "The purpose of visualizations is to help identify relationships to investigate more formally, such as with statistics. Consequently you must explain your design choices. That is, what are you expecting to see in your graphics. Support your ideas using the literature."
   ]
  },
  {
   "cell_type": "markdown",
   "id": "d4a25589",
   "metadata": {},
   "source": [
    "Violent crime will be plotted as a timeseries, with the dates plotted on the x axis and the number of violent crimes committed within that month on the y axis. This will be plotted noncumulatively, allowing the gradient to be used to identify any trends within the data. This may also show whether there are any trends on a year-by-year basis, such as seasonal violence, for example.\n",
    "\n",
    "Firearm incidents and drug offences will also be plotted as a timeseries, which should allow for any trends that may exist to be identified. It may be challenging to discern a common trend due to how relatively widespread drug use is compared to firearms, however, any particularly large trends should remain identifiable.\n",
    "\n",
    "The second claim that there are more firearm incidents in Birmingham than anywhere else in the UK will not be visualised as a graph, such as a bar chart, due to the very high number of districts that would make it very difficult to interpret. It will instead be represented as a table of the highest firearm incidents per population districts in the UK, where Birmingham should rank highest if the claim is true."
   ]
  },
  {
   "cell_type": "code",
   "execution_count": 23,
   "id": "7e234ac0",
   "metadata": {},
   "outputs": [
    {
     "data": {
      "image/png": "[encoded data removed]",
      "text/plain": [
       "<Figure size 1000x500 with 1 Axes>"
      ]
     },
     "metadata": {},
     "output_type": "display_data"
    }
   ],
   "source": [
    "df_violence_timeseries2 = df_violence_timeseries.reset_index()\n",
    "\n",
    "# Displays the violence timeseries as a line graph.\n",
    "# Suitable labels, title, grid, and legend are used.\n",
    "# seaborn's regplot is used for a line of best fit.\n",
    "\n",
    "fig, ax = plt.subplots()\n",
    "ax.set_xlabel(\"Date\")\n",
    "ax.set_ylabel(\"Frequency\")\n",
    "ax.grid()\n",
    "ax.plot(df_violence_timeseries2.Date, df_violence_timeseries2.Frequency)\n",
    "ax.legend([\"Violent Crimes\"], loc='center left',bbox_to_anchor=(1.0, 0.5))\n",
    "\n",
    "df_violence_timeseries2.Date = df_violence_timeseries2.Date.apply(date2num)\n",
    "regplot(x = df_violence_timeseries2.Date, y = df_violence_timeseries2.Frequency)\n",
    "\n",
    "fig.suptitle(\"Violent Crimes over Time\")\n",
    "fig.set_size_inches(10, 5)\n",
    "plt.show()"
   ]
  },
  {
   "cell_type": "code",
   "execution_count": 24,
   "id": "84f322ae",
   "metadata": {},
   "outputs": [
    {
     "data": {
      "image/png": "[encoded data removed]",
      "text/plain": [
       "<Figure size 1000x500 with 1 Axes>"
      ]
     },
     "metadata": {},
     "output_type": "display_data"
    }
   ],
   "source": [
    "df_violence_timeseries3 = df_just_violence_timeseries.reset_index()\n",
    "\n",
    "# Displays the violence timeseries as a line graph.\n",
    "# Suitable labels, title, grid, and legend are used.\n",
    "# seaborn's regplot is used for a line of best fit.\n",
    "\n",
    "fig, ax = plt.subplots()\n",
    "ax.set_xlabel(\"Date\")\n",
    "ax.set_ylabel(\"Frequency\")\n",
    "ax.grid()\n",
    "ax.plot(df_violence_timeseries3.Date, df_violence_timeseries3.Frequency)\n",
    "ax.legend([\"Violent Crimes\"], loc='center left',bbox_to_anchor=(1.0, 0.5))\n",
    "\n",
    "df_violence_timeseries3.Date = df_violence_timeseries3.Date.apply(date2num)\n",
    "regplot(x = df_violence_timeseries3.Date, y = df_violence_timeseries3.Frequency)\n",
    "\n",
    "fig.suptitle(\"Violent Crimes over Time\")\n",
    "fig.set_size_inches(10, 5)\n",
    "plt.show()"
   ]
  },
  {
   "cell_type": "code",
   "execution_count": 25,
   "id": "4082d5a4",
   "metadata": {
    "scrolled": false
   },
   "outputs": [
    {
     "data": {
      "image/png": "[encoded data removed]",
      "text/plain": [
       "<Figure size 1000x500 with 1 Axes>"
      ]
     },
     "metadata": {},
     "output_type": "display_data"
    }
   ],
   "source": [
    "# Displays the drugs and firearms timeseries' as a line graph.\n",
    "# Suitable labels, title, grid, and legend are used.\n",
    "\n",
    "fig, ax = plt.subplots()\n",
    "ax.set_xlabel(\"Date\")\n",
    "ax.set_ylabel(\"Frequency\")\n",
    "ax.grid()\n",
    "ax.plot(df_drugs_timeseries)\n",
    "ax.plot(df_firearms_timeseries)\n",
    "ax.legend([\"Drugs\", \"Firearms\"], loc='center left',bbox_to_anchor=(1.0, 0.5))\n",
    "\n",
    "fig.suptitle(\"Drug Crimes over Time\")\n",
    "fig.set_size_inches(10, 5)\n",
    "plt.show()"
   ]
  },
  {
   "cell_type": "code",
   "execution_count": 26,
   "id": "dba961ca",
   "metadata": {},
   "outputs": [
    {
     "data": {
      "image/png": "[encoded data removed]",
      "text/plain": [
       "<Figure size 1000x500 with 1 Axes>"
      ]
     },
     "metadata": {},
     "output_type": "display_data"
    }
   ],
   "source": [
    "fig, ax = plt.subplots()\n",
    "\n",
    "df_postcode_frequency_pd.plot(x = \"Firearm_Frequency\", y = \"Drug_Frequency\", ax=ax, kind=\"scatter\")\n",
    "regplot(x = df_postcode_frequency_pd.Firearm_Frequency, y = df_postcode_frequency_pd.Drug_Frequency)\n",
    "\n",
    "ax.grid()\n",
    "ax.set_xlabel(\"Firearm Frequency\")\n",
    "ax.set_ylabel(\"Drug Frequency\")\n",
    "ax.set_xlim(0,70)\n",
    "ax.set_ylim(0,12000)\n",
    "\n",
    "fig.suptitle(\"Scatter graph of location based frequency of firearm incidents and drug crimes\")\n",
    "fig.set_size_inches(10, 5)\n",
    "plt.show()"
   ]
  },
  {
   "cell_type": "code",
   "execution_count": 27,
   "id": "74cd0630",
   "metadata": {},
   "outputs": [
    {
     "name": "stdout",
     "output_type": "stream",
     "text": [
      "Total Incidents of both firearms and drugs at the same location in the same timeframe: 4768\n"
     ]
    }
   ],
   "source": [
    "print(\"Total Incidents of both firearms and drugs at the same location in the same timeframe: {0}\" \\\n",
    "      .format(df_correlation_Date_Long_Lat.count()))"
   ]
  },
  {
   "cell_type": "code",
   "execution_count": 28,
   "id": "dc983309",
   "metadata": {},
   "outputs": [
    {
     "name": "stdout",
     "output_type": "stream",
     "text": [
      "Districts with the highest number of incidents per 100,000 people:\n"
     ]
    },
    {
     "data": {
      "text/html": [
       "<div>\n",
       "<style scoped>\n",
       "    .dataframe tbody tr th:only-of-type {\n",
       "        vertical-align: middle;\n",
       "    }\n",
       "\n",
       "    .dataframe tbody tr th {\n",
       "        vertical-align: top;\n",
       "    }\n",
       "\n",
       "    .dataframe thead th {\n",
       "        text-align: right;\n",
       "    }\n",
       "</style>\n",
       "<table border=\"1\" class=\"dataframe\">\n",
       "  <thead>\n",
       "    <tr style=\"text-align: right;\">\n",
       "      <th></th>\n",
       "      <th>District</th>\n",
       "      <th>Incidents</th>\n",
       "      <th>Population</th>\n",
       "      <th>Incidents Per 100,000 People</th>\n",
       "    </tr>\n",
       "  </thead>\n",
       "  <tbody>\n",
       "    <tr>\n",
       "      <th>0</th>\n",
       "      <td>City of London</td>\n",
       "      <td>17</td>\n",
       "      <td>7355</td>\n",
       "      <td>231.13528</td>\n",
       "    </tr>\n",
       "    <tr>\n",
       "      <th>1</th>\n",
       "      <td>North Devon</td>\n",
       "      <td>144</td>\n",
       "      <td>93666</td>\n",
       "      <td>153.73775</td>\n",
       "    </tr>\n",
       "    <tr>\n",
       "      <th>2</th>\n",
       "      <td>North Somerset</td>\n",
       "      <td>224</td>\n",
       "      <td>202592</td>\n",
       "      <td>110.56705</td>\n",
       "    </tr>\n",
       "    <tr>\n",
       "      <th>3</th>\n",
       "      <td>West Somerset</td>\n",
       "      <td>27</td>\n",
       "      <td>34655</td>\n",
       "      <td>77.91084</td>\n",
       "    </tr>\n",
       "    <tr>\n",
       "      <th>4</th>\n",
       "      <td>Westminster</td>\n",
       "      <td>162</td>\n",
       "      <td>219361</td>\n",
       "      <td>73.85087</td>\n",
       "    </tr>\n",
       "    <tr>\n",
       "      <th>...</th>\n",
       "      <td>...</td>\n",
       "      <td>...</td>\n",
       "      <td>...</td>\n",
       "      <td>...</td>\n",
       "    </tr>\n",
       "    <tr>\n",
       "      <th>315</th>\n",
       "      <td>Windsor and Maidenhead</td>\n",
       "      <td>2</td>\n",
       "      <td>144646</td>\n",
       "      <td>1.38269</td>\n",
       "    </tr>\n",
       "    <tr>\n",
       "      <th>316</th>\n",
       "      <td>Wealden</td>\n",
       "      <td>2</td>\n",
       "      <td>148913</td>\n",
       "      <td>1.34307</td>\n",
       "    </tr>\n",
       "    <tr>\n",
       "      <th>317</th>\n",
       "      <td>Runnymede</td>\n",
       "      <td>1</td>\n",
       "      <td>80448</td>\n",
       "      <td>1.24304</td>\n",
       "    </tr>\n",
       "    <tr>\n",
       "      <th>318</th>\n",
       "      <td>Blaby</td>\n",
       "      <td>1</td>\n",
       "      <td>93784</td>\n",
       "      <td>1.06628</td>\n",
       "    </tr>\n",
       "    <tr>\n",
       "      <th>319</th>\n",
       "      <td>Lewes</td>\n",
       "      <td>1</td>\n",
       "      <td>97465</td>\n",
       "      <td>1.02601</td>\n",
       "    </tr>\n",
       "  </tbody>\n",
       "</table>\n",
       "<p>320 rows × 4 columns</p>\n",
       "</div>"
      ],
      "text/plain": [
       "                   District  Incidents  Population  \\\n",
       "0            City of London         17        7355   \n",
       "1               North Devon        144       93666   \n",
       "2            North Somerset        224      202592   \n",
       "3             West Somerset         27       34655   \n",
       "4               Westminster        162      219361   \n",
       "..                      ...        ...         ...   \n",
       "315  Windsor and Maidenhead          2      144646   \n",
       "316                 Wealden          2      148913   \n",
       "317               Runnymede          1       80448   \n",
       "318                   Blaby          1       93784   \n",
       "319                   Lewes          1       97465   \n",
       "\n",
       "     Incidents Per 100,000 People  \n",
       "0                       231.13528  \n",
       "1                       153.73775  \n",
       "2                       110.56705  \n",
       "3                        77.91084  \n",
       "4                        73.85087  \n",
       "..                            ...  \n",
       "315                       1.38269  \n",
       "316                       1.34307  \n",
       "317                       1.24304  \n",
       "318                       1.06628  \n",
       "319                       1.02601  \n",
       "\n",
       "[320 rows x 4 columns]"
      ]
     },
     "metadata": {},
     "output_type": "display_data"
    },
    {
     "name": "stdout",
     "output_type": "stream",
     "text": [
      "Birmingham ranks number 83 out of all 320 districts with firearm incidents\n"
     ]
    },
    {
     "data": {
      "text/html": [
       "<div>\n",
       "<style scoped>\n",
       "    .dataframe tbody tr th:only-of-type {\n",
       "        vertical-align: middle;\n",
       "    }\n",
       "\n",
       "    .dataframe tbody tr th {\n",
       "        vertical-align: top;\n",
       "    }\n",
       "\n",
       "    .dataframe thead th {\n",
       "        text-align: right;\n",
       "    }\n",
       "</style>\n",
       "<table border=\"1\" class=\"dataframe\">\n",
       "  <thead>\n",
       "    <tr style=\"text-align: right;\">\n",
       "      <th></th>\n",
       "      <th>District</th>\n",
       "      <th>Incidents</th>\n",
       "      <th>Population</th>\n",
       "      <th>Incidents Per 100,000 People</th>\n",
       "    </tr>\n",
       "  </thead>\n",
       "  <tbody>\n",
       "    <tr>\n",
       "      <th>80</th>\n",
       "      <td>Hastings</td>\n",
       "      <td>20</td>\n",
       "      <td>90111</td>\n",
       "      <td>22.19485</td>\n",
       "    </tr>\n",
       "    <tr>\n",
       "      <th>81</th>\n",
       "      <td>Bassetlaw</td>\n",
       "      <td>25</td>\n",
       "      <td>112850</td>\n",
       "      <td>22.15330</td>\n",
       "    </tr>\n",
       "    <tr>\n",
       "      <th>82</th>\n",
       "      <td>Birmingham</td>\n",
       "      <td>237</td>\n",
       "      <td>1072849</td>\n",
       "      <td>22.09071</td>\n",
       "    </tr>\n",
       "    <tr>\n",
       "      <th>83</th>\n",
       "      <td>Reading</td>\n",
       "      <td>34</td>\n",
       "      <td>155715</td>\n",
       "      <td>21.83476</td>\n",
       "    </tr>\n",
       "    <tr>\n",
       "      <th>84</th>\n",
       "      <td>Bury</td>\n",
       "      <td>40</td>\n",
       "      <td>185045</td>\n",
       "      <td>21.61636</td>\n",
       "    </tr>\n",
       "  </tbody>\n",
       "</table>\n",
       "</div>"
      ],
      "text/plain": [
       "      District  Incidents  Population  Incidents Per 100,000 People\n",
       "80    Hastings         20       90111                      22.19485\n",
       "81   Bassetlaw         25      112850                      22.15330\n",
       "82  Birmingham        237     1072849                      22.09071\n",
       "83     Reading         34      155715                      21.83476\n",
       "84        Bury         40      185045                      21.61636"
      ]
     },
     "metadata": {},
     "output_type": "display_data"
    },
    {
     "name": "stdout",
     "output_type": "stream",
     "text": [
      "Districts with the highest number of incidents:\n"
     ]
    },
    {
     "data": {
      "text/html": [
       "<div>\n",
       "<style scoped>\n",
       "    .dataframe tbody tr th:only-of-type {\n",
       "        vertical-align: middle;\n",
       "    }\n",
       "\n",
       "    .dataframe tbody tr th {\n",
       "        vertical-align: top;\n",
       "    }\n",
       "\n",
       "    .dataframe thead th {\n",
       "        text-align: right;\n",
       "    }\n",
       "</style>\n",
       "<table border=\"1\" class=\"dataframe\">\n",
       "  <thead>\n",
       "    <tr style=\"text-align: right;\">\n",
       "      <th></th>\n",
       "      <th>District</th>\n",
       "      <th>Incidents</th>\n",
       "      <th>Population</th>\n",
       "      <th>Incidents Per 100,000 People</th>\n",
       "    </tr>\n",
       "  </thead>\n",
       "  <tbody>\n",
       "    <tr>\n",
       "      <th>82</th>\n",
       "      <td>Birmingham</td>\n",
       "      <td>237</td>\n",
       "      <td>1072849</td>\n",
       "      <td>22.09071</td>\n",
       "    </tr>\n",
       "    <tr>\n",
       "      <th>2</th>\n",
       "      <td>North Somerset</td>\n",
       "      <td>224</td>\n",
       "      <td>202592</td>\n",
       "      <td>110.56705</td>\n",
       "    </tr>\n",
       "    <tr>\n",
       "      <th>65</th>\n",
       "      <td>Leeds</td>\n",
       "      <td>199</td>\n",
       "      <td>751490</td>\n",
       "      <td>26.48072</td>\n",
       "    </tr>\n",
       "    <tr>\n",
       "      <th>23</th>\n",
       "      <td>Liverpool</td>\n",
       "      <td>176</td>\n",
       "      <td>466337</td>\n",
       "      <td>37.74095</td>\n",
       "    </tr>\n",
       "    <tr>\n",
       "      <th>4</th>\n",
       "      <td>Westminster</td>\n",
       "      <td>162</td>\n",
       "      <td>219361</td>\n",
       "      <td>73.85087</td>\n",
       "    </tr>\n",
       "    <tr>\n",
       "      <th>...</th>\n",
       "      <td>...</td>\n",
       "      <td>...</td>\n",
       "      <td>...</td>\n",
       "      <td>...</td>\n",
       "    </tr>\n",
       "    <tr>\n",
       "      <th>297</th>\n",
       "      <td>Adur</td>\n",
       "      <td>2</td>\n",
       "      <td>61167</td>\n",
       "      <td>3.26974</td>\n",
       "    </tr>\n",
       "    <tr>\n",
       "      <th>289</th>\n",
       "      <td>Craven</td>\n",
       "      <td>2</td>\n",
       "      <td>55429</td>\n",
       "      <td>3.60822</td>\n",
       "    </tr>\n",
       "    <tr>\n",
       "      <th>317</th>\n",
       "      <td>Runnymede</td>\n",
       "      <td>1</td>\n",
       "      <td>80448</td>\n",
       "      <td>1.24304</td>\n",
       "    </tr>\n",
       "    <tr>\n",
       "      <th>318</th>\n",
       "      <td>Blaby</td>\n",
       "      <td>1</td>\n",
       "      <td>93784</td>\n",
       "      <td>1.06628</td>\n",
       "    </tr>\n",
       "    <tr>\n",
       "      <th>319</th>\n",
       "      <td>Lewes</td>\n",
       "      <td>1</td>\n",
       "      <td>97465</td>\n",
       "      <td>1.02601</td>\n",
       "    </tr>\n",
       "  </tbody>\n",
       "</table>\n",
       "<p>320 rows × 4 columns</p>\n",
       "</div>"
      ],
      "text/plain": [
       "           District  Incidents  Population  Incidents Per 100,000 People\n",
       "82       Birmingham        237     1072849                      22.09071\n",
       "2    North Somerset        224      202592                     110.56705\n",
       "65            Leeds        199      751490                      26.48072\n",
       "23        Liverpool        176      466337                      37.74095\n",
       "4       Westminster        162      219361                      73.85087\n",
       "..              ...        ...         ...                           ...\n",
       "297            Adur          2       61167                       3.26974\n",
       "289          Craven          2       55429                       3.60822\n",
       "317       Runnymede          1       80448                       1.24304\n",
       "318           Blaby          1       93784                       1.06628\n",
       "319           Lewes          1       97465                       1.02601\n",
       "\n",
       "[320 rows x 4 columns]"
      ]
     },
     "metadata": {},
     "output_type": "display_data"
    },
    {
     "name": "stdout",
     "output_type": "stream",
     "text": [
      "Districts with the highest population:\n"
     ]
    },
    {
     "data": {
      "text/html": [
       "<div>\n",
       "<style scoped>\n",
       "    .dataframe tbody tr th:only-of-type {\n",
       "        vertical-align: middle;\n",
       "    }\n",
       "\n",
       "    .dataframe tbody tr th {\n",
       "        vertical-align: top;\n",
       "    }\n",
       "\n",
       "    .dataframe thead th {\n",
       "        text-align: right;\n",
       "    }\n",
       "</style>\n",
       "<table border=\"1\" class=\"dataframe\">\n",
       "  <thead>\n",
       "    <tr style=\"text-align: right;\">\n",
       "      <th></th>\n",
       "      <th>District</th>\n",
       "      <th>Incidents</th>\n",
       "      <th>Population</th>\n",
       "      <th>Incidents Per 100,000 People</th>\n",
       "    </tr>\n",
       "  </thead>\n",
       "  <tbody>\n",
       "    <tr>\n",
       "      <th>82</th>\n",
       "      <td>Birmingham</td>\n",
       "      <td>237</td>\n",
       "      <td>1072849</td>\n",
       "      <td>22.09071</td>\n",
       "    </tr>\n",
       "    <tr>\n",
       "      <th>65</th>\n",
       "      <td>Leeds</td>\n",
       "      <td>199</td>\n",
       "      <td>751490</td>\n",
       "      <td>26.48072</td>\n",
       "    </tr>\n",
       "    <tr>\n",
       "      <th>51</th>\n",
       "      <td>Sheffield</td>\n",
       "      <td>157</td>\n",
       "      <td>552744</td>\n",
       "      <td>28.40375</td>\n",
       "    </tr>\n",
       "    <tr>\n",
       "      <th>163</th>\n",
       "      <td>Cornwall</td>\n",
       "      <td>70</td>\n",
       "      <td>532285</td>\n",
       "      <td>13.15085</td>\n",
       "    </tr>\n",
       "    <tr>\n",
       "      <th>72</th>\n",
       "      <td>Bradford</td>\n",
       "      <td>123</td>\n",
       "      <td>522428</td>\n",
       "      <td>23.54391</td>\n",
       "    </tr>\n",
       "    <tr>\n",
       "      <th>...</th>\n",
       "      <td>...</td>\n",
       "      <td>...</td>\n",
       "      <td>...</td>\n",
       "      <td>...</td>\n",
       "    </tr>\n",
       "    <tr>\n",
       "      <th>282</th>\n",
       "      <td>Melton</td>\n",
       "      <td>2</td>\n",
       "      <td>50349</td>\n",
       "      <td>3.97227</td>\n",
       "    </tr>\n",
       "    <tr>\n",
       "      <th>280</th>\n",
       "      <td>Christchurch</td>\n",
       "      <td>2</td>\n",
       "      <td>47726</td>\n",
       "      <td>4.19059</td>\n",
       "    </tr>\n",
       "    <tr>\n",
       "      <th>265</th>\n",
       "      <td>Rutland</td>\n",
       "      <td>2</td>\n",
       "      <td>37380</td>\n",
       "      <td>5.35045</td>\n",
       "    </tr>\n",
       "    <tr>\n",
       "      <th>3</th>\n",
       "      <td>West Somerset</td>\n",
       "      <td>27</td>\n",
       "      <td>34655</td>\n",
       "      <td>77.91084</td>\n",
       "    </tr>\n",
       "    <tr>\n",
       "      <th>0</th>\n",
       "      <td>City of London</td>\n",
       "      <td>17</td>\n",
       "      <td>7355</td>\n",
       "      <td>231.13528</td>\n",
       "    </tr>\n",
       "  </tbody>\n",
       "</table>\n",
       "<p>320 rows × 4 columns</p>\n",
       "</div>"
      ],
      "text/plain": [
       "           District  Incidents  Population  Incidents Per 100,000 People\n",
       "82       Birmingham        237     1072849                      22.09071\n",
       "65            Leeds        199      751490                      26.48072\n",
       "51        Sheffield        157      552744                      28.40375\n",
       "163        Cornwall         70      532285                      13.15085\n",
       "72         Bradford        123      522428                      23.54391\n",
       "..              ...        ...         ...                           ...\n",
       "282          Melton          2       50349                       3.97227\n",
       "280    Christchurch          2       47726                       4.19059\n",
       "265         Rutland          2       37380                       5.35045\n",
       "3     West Somerset         27       34655                      77.91084\n",
       "0    City of London         17        7355                     231.13528\n",
       "\n",
       "[320 rows x 4 columns]"
      ]
     },
     "metadata": {},
     "output_type": "display_data"
    }
   ],
   "source": [
    "# Displays the same dataframe of firearm incidents in each district across the UK\n",
    "# First display is sorted by the highest number of incidents per head in the UK, as the claim states\n",
    "\n",
    "print(\"Districts with the highest number of incidents per 100,000 people:\")\n",
    "df_firearm_incidents_district = df_firearm_incidents_district.sort_values(\"Incidents Per 100,000 People\", ascending=False)\n",
    "display(df_firearm_incidents_district)\n",
    "birmingham_rank = df_firearm_incidents_district.index[df_firearm_incidents_district['District']==\"Birmingham\"] \\\n",
    "                                .tolist()[0] + 1\n",
    "total_districts = df_firearm_incidents_district.count()[\"District\"]\n",
    "percentile = round((1 - ((birmingham_rank - 1) / total_districts)) * 100)\n",
    "print(\"Birmingham ranks number {0} out of all {1} districts with firearm incidents\".format(birmingham_rank, total_districts))\n",
    "\n",
    "# Second display shows Birminghams ranking in this dataframe, as well as a few districts with similar levels\n",
    "display(df_firearm_incidents_district[birmingham_rank-3:birmingham_rank+2])\n",
    "\n",
    "# Third display shows the districts with the highest number of total incidents\n",
    "print(\"Districts with the highest number of incidents:\")\n",
    "df_firearm_incidents_district = df_firearm_incidents_district.sort_values(\"Incidents\", ascending=False)\n",
    "display(df_firearm_incidents_district)\n",
    "\n",
    "# Fourth display shows the districts with the highest total population.\n",
    "print(\"Districts with the highest population:\")\n",
    "df_firearm_incidents_district = df_firearm_incidents_district.sort_values(\"Population\", ascending=False)\n",
    "display(df_firearm_incidents_district)"
   ]
  },
  {
   "cell_type": "markdown",
   "id": "07d7a393",
   "metadata": {},
   "source": [
    "The first graph suggests a very strong positive linear correlation in the violent crime timeseries. While the data does fluctuate month-by-month and year-by-year, there remains a very prevalent upwards trend that violent crime in the UK is increasing based on this data, with the first sample being below 60,000 violent crimes, and the last reaching over 170,000 violent crimes in a single month. The second graph is a plot of only the data labelled \"Violent crime\", rather than both \"Violent crime\" and \"Violence and sexual offences\". This shows a trend that violent crime was actually decreasing prior to the inclusion of sexual offences.\n",
    "\n",
    "The third graph plots a timeseries of drugs and firearms on the same axis, however, there exists a large disparity between the frequency of drug offences compared to firearm incidents. Firearm incidents seem to have remained stable at a very low frequency, whereas drug use began much higher, steadily decreasing until around 2017 where it has been increasing to a similar level as it began in 2012. As the graph was not very insightful, a data frame of firearm and drug offences at the same location during the same month was created. It was found that of the 10,122 firearm incidents, there was 4,768 drug incidents at the same location during the same month. While this could be a coincidence given the 1,636,770 total drug incidents, it should be considered when drawing conclusions on the claims with the limited data, as there is no way to verify the offences are actually related without the identity of the offender(s).\n",
    "\n",
    "Lastly, the firearm incidents per population suggests that Birmingham does not have the highest firearms incidents per head, but rather the City of London, North Devon, and North Somerset rank highest, all with an average of over 100 incidents per 100,000 people. Birmingham is ranked number 83 out of all UK districts, with less than 23 incidents per 100,000 people. On the other hand, Birmingham does have the highest total number of firearm incidents than any other district, however, this is offset in the per-population statistic as they also have the highest population of any single district."
   ]
  },
  {
   "cell_type": "markdown",
   "id": "be9021d3",
   "metadata": {},
   "source": [
    "# 5) Selection, application, and reasoning behind use of statistical analysis and multiple evaluation measures   _markdown_, _code_,  _markdown_, 20 Marks\n",
    "\n",
    "As in the previous section,\n",
    "1. Explain what you are trying to do (with references)\n",
    "2. Do the coding and include the results\n",
    "3. Explain your findings."
   ]
  },
  {
   "cell_type": "markdown",
   "id": "9d498ce1",
   "metadata": {},
   "source": [
    "For the violent crime data timeseries, the data was expected to be linear after the line of best fit appeared to maintain a relatively small error against the data points. Therefore, Pearson’s algorithm was used for this as it is effective on linear data and provides both a correlation coefficient and p value [4, 5]. The correlation coefficient is the strength of the correlation, as well as if it is positive or negative, and the p value is the probability that the same correlation could occur if the null hypothesis was true. Conventionally, a p value lower than 0.05, or 5%, is regarded as statistically significant and suggests that the null hypothesis is false. The null hypothesis assumes that no relationship at all exists, and that the variables are completely independent of one another [4]. This is assumed to be true during statistical analysis, for the purpose of disproving it based on the probability of it occurring, and therefore proving the alternate hypothesis more likely true – that the variables are correlated [4].\n",
    "\n",
    "As for measuring if firearms incidents are associated with drug offences, this relationship is assumed to be non-linear and therefore Spearman’s algorithm will be used [6]. Spearman’s algorithm is like Pearson’s algorithm in that both provide a correlation coefficient and a p value, with the primary difference being Spearman’s algorithm can be applied to unnormalized data.\n",
    "\n",
    "Lastly, no particular statistical analysis should be required to answer whether Birmingham has the greatest number of firearms incidents per population, and very basic statistical functions will be used for this instead. This includes listing the districts with the highest incidents per population in order, finding where Birmingham ranks in this list, and its’ percentile against other districts.\n"
   ]
  },
  {
   "cell_type": "code",
   "execution_count": 29,
   "id": "82dd5fc1",
   "metadata": {},
   "outputs": [
    {
     "name": "stdout",
     "output_type": "stream",
     "text": [
      "PearsonRResult(statistic=0.9493135558432482, pvalue=3.5688277825928895e-64)\n"
     ]
    }
   ],
   "source": [
    "#get min and max frequencies\n",
    "minFreq = df_violence_timeseries2.Frequency.min()\n",
    "maxFreq = df_violence_timeseries2.Frequency.max()\n",
    "\n",
    "#normalise the data for the pearson function\n",
    "df_violence_timeseries2 = df_violence_timeseries2.assign(normalised=(df_violence_timeseries2.Frequency - minFreq) / (maxFreq - minFreq))\n",
    "\n",
    "#declare X and Y variables for correlation\n",
    "Y = df_violence_timeseries2.normalised\n",
    "X = df_violence_timeseries2.index\n",
    "\n",
    "#find correlation\n",
    "violence_model = pearsonr(X, Y)\n",
    "#display correlation data\n",
    "print(violence_model)"
   ]
  },
  {
   "cell_type": "code",
   "execution_count": 30,
   "id": "fc006256",
   "metadata": {},
   "outputs": [
    {
     "name": "stdout",
     "output_type": "stream",
     "text": [
      "Birmingham is in the 74th percentile, making it in the top 26% of districts for firearm incidents per 100,000 people in the UK\n"
     ]
    }
   ],
   "source": [
    "print(\"Birmingham is in the {0}th percentile, making it in the top {1}% of districts for firearm incidents per 100,000 people in the UK\" \\\n",
    "     .format(percentile, 100 - percentile))"
   ]
  },
  {
   "cell_type": "code",
   "execution_count": 31,
   "id": "92159c2f",
   "metadata": {
    "scrolled": true
   },
   "outputs": [
    {
     "data": {
      "text/plain": [
       "SpearmanrResult(correlation=0.8240953816150007, pvalue=0.0)"
      ]
     },
     "execution_count": 31,
     "metadata": {},
     "output_type": "execute_result"
    }
   ],
   "source": [
    "# declare X and Y values for correlation\n",
    "Y = df_postcode_frequency_pd[\"Drug_Frequency\"]\n",
    "X = df_postcode_frequency_pd[\"Firearm_Frequency\"]\n",
    "\n",
    "# find correlation using the spearman algorithm\n",
    "drug_firearm_model = spearmanr(X, Y)\n",
    "#display correlation data\n",
    "drug_firearm_model"
   ]
  },
  {
   "cell_type": "code",
   "execution_count": 32,
   "id": "a3acb4f5",
   "metadata": {},
   "outputs": [
    {
     "name": "stdout",
     "output_type": "stream",
     "text": [
      "Percentage of firearm offences that coincide with drug offences: 47.11%\n",
      "Percentage of drug offences that coincide with firearms offences: 0.29%\n"
     ]
    }
   ],
   "source": [
    "print(\"Percentage of firearm offences that coincide with drug offences: {0}%\".format(round((num_correlated_offences / num_firearm_offences) * 100, 2)))\n",
    "print(\"Percentage of drug offences that coincide with firearms offences: {0}%\".format(round((num_correlated_offences / num_drug_offences) * 100, 2)))"
   ]
  },
  {
   "cell_type": "markdown",
   "id": "0aedf3c6",
   "metadata": {},
   "source": [
    "The Pearson correlation statistic for the violent crime data timeseries was extremely strong, with a correlation coefficient of 0.95 and a p value of 3.6 x10-64. The correlation coefficient is very close to 1, indicating an extremely strong, positive correlation between time and frequency. The p value, or probability of this result if the null hypothesis was correct, is very low, indicating that the data are strongly correlated, and therefore supporting the claim that violent crime is both strongly correlated with time and is increasing. \n",
    "\n",
    "As for firearm incidents per population in Birmingham, it does not have the highest firearm incidents per population than any other district, but rather ranks number 83 out of all 320 districts with firearm incidents. Only districts with at least 1 firearm incident on record were included in this analysis, which puts Birmingham in the 74th percentile, or in the top 26% for firearm incidents per population. Interestingly, Birmingham did have the highest number of total firearms incidents, however, having also the highest population of any single district, this was significantly reduced when analysing incidents per population.\n",
    "\n",
    "Lastly, Spearman’s algorithm was used to determine if firearm incidents were associated with drug offences and was found to be statistically very likely. Spearman’s algorithm provides both a correlation coefficient and a p value, which both supported this claim. The correlation coefficient was 0.82, suggesting a very strong correlation between firearm incidents and drug offences. The p value, like in Pearson’s algorithm, is the probability of this occurring given the null hypothesis is true.  The calculated p value was found to be 0.0, suggesting a very strong relationship between firearm and drug offences, and a near-impossible chance of it randomly occurring were they not correlated."
   ]
  },
  {
   "cell_type": "markdown",
   "id": "0ea242ea",
   "metadata": {},
   "source": [
    "# 6) Detailed Analysis and consideration of the appropriateness of the solution for the initial problem  _markdown_, 10 Marks\n",
    "\n",
    "This is the discussion section of you report. You should critically consider the advantages, disadvantages, and limitations of the methods used. "
   ]
  },
  {
   "cell_type": "markdown",
   "id": "7dc5e964",
   "metadata": {},
   "source": [
    "One advantage of the methodology was that the data used was provided by the UK Government and therefore should be free of bias. It is in the Government's interest to appear to have less crime, however, Government statistics are independently reviewed by non-political organisations and are therefore more reliable [7].\n",
    "\n",
    "One limitation of the methodology is that only crimes that have been reported are included in the crime dataset. For example, the data suggests a large increase in violent crime, however, it is also possible that the actual amount of crime has stayed the same, and the increase is due to more of the violent crimes being reported.\n",
    "\n",
    "A second limitation is that in 2013, violent crimes was no longer an individual crime type, but rather included in violent and sexual offences. This means that any sexual offences that were not also violent crimes would be considered violent crimes in this application. The data also suggests this, as the data does not drastically increase until during 2013 when the crime type is changed. When only data for violent crimes is plotted, rather than together with violence and sexual offences, the data shows a negative correlation, indicating that violence was decreasing before sexual offences were included, where it increased drastically thereafter. This leads to a less reliable conclusion about the trends observed and claims made.\n",
    "\n",
    "One limitation to the firearm data is that there are significantly fewer firearm incidents in the UK than drug offences. This difference makes it challenging to determine if one is influencing the other despite the very strong correlation shown during the statistical analysis of the data. It is also unknown in the dataset if multiple crimes are recorded, or if the more serious crime takes priority. This means that firearm offences could have also been drug offences, but the firearm is more serious and therefore causes the drug offence to be disregarded. This is further made difficult as the dataset does not provide a method of identifying the offender, and therefore it cannot be known with certainty that one offence corresponds with another, or if there merely exists a correlation in location to those particular crimes. However, the documentary does not claim that firearm offenders are also drug offenders, but rather that firearms incidents are associated with drug offences, which the data entirely supports. \n",
    "\n",
    "The correlation for firearm and drug incidents was found on a per-area basis on the respective crimes that fall within the first half of a postcode. Time was not used as the individual offender was not in question, but rather if the crimes are associated. This was taken to mean that a single offender need not commit both offences, but just that the offences were associated via their area, which was found to be strongly correlated. Location coordinates or a complete postcode were not used as they were believed to be too specific and would therefore not produce a correlation at all. This is because a small number of houses in a complete postcode, or a single house in a coordinate pair, was thought to not constitute a large enough area to identify any trends with the relatively low number of total firearm incidents across the country.\n"
   ]
  },
  {
   "cell_type": "markdown",
   "id": "ad19d406",
   "metadata": {},
   "source": [
    "# 7) Evaluation and Conclusion  _markdown_, 10 Marks\n",
    "\n",
    "In the conclusion you should consider you initial aim and objectives and discuss your findings. Specifically you need to advice your client insurance company."
   ]
  },
  {
   "cell_type": "markdown",
   "id": "23d06dd9",
   "metadata": {},
   "source": [
    "To conclude, the investigation suggests that violent crime is increasing, that the district of Birmingham does not have the highest frequency of firearm incidents per head than any other district, and that firearm incidents are associated with drug offences.\n",
    "\n",
    "Reported violent crime in the UK has been increasing at an alarming rate since 2013, and while this may be due in part to the inclusion of non-violent sexual offences, it is very unlikely that this was the sole reasoning behind this trend, and the much more obvious indicator being that violent crime itself is increasing, or at minimum, more reports of violent crime are being made. This could be for several reasons, such as reduced stigma around reporting violence, but the causality itself is outside of the scope of this investigation.\n",
    "\n",
    "As for firearm incidents per district population, Birmingham does not rank highest in this dataset, but rather 83rd. Birmingham does rank highest in total firearm incidents as well as population, however, the claim specifically mentions “per head”, and therefore these datasets prove the claim to be false.\n",
    "\n",
    "Lastly in regard to firearm incidents and drug offences, the data suggests a very strong positive correlation that supports the claim that the offences are closely associated with one another. Of the three claims, this is the weakest confirmation, however, without further analysis of other more sensitive datasets out of the scope of this investigation, it is not possible to better determine causality, and by extension, association. Future work may consist of using the identity of the offender, as well as the circumstance of the crime to better determine an association. The offender identity itself cannot fully explore this; as for example, one offender may have a firearm offence directly committed as a result of another offenders’ drug offence, making the crimes associated but with different offenders that would not be detected.\n"
   ]
  },
  {
   "cell_type": "markdown",
   "id": "5d25d8ba",
   "metadata": {},
   "source": [
    "# 8) References and Citation _markdown_, 10 Marks\n",
    "\n",
    "References are essential at level 7. in this section you should give references for the papers/books you have cited in this assignment. Try to avoid using web pages as these are considered _weak references_ as they are often not reviewed."
   ]
  },
  {
   "cell_type": "markdown",
   "id": "180530aa",
   "metadata": {},
   "source": [
    "[1]\tA. Roman-Urrestarazu et al., \"Brexit threatens the UK’s ability to tackle illicit drugs and organised crime: What needs to happen now?,\" Health Policy, vol. 123, no. 6, pp. 521-525, 2019/06/01/ 2019, doi: https://doi.org/10.1016/j.healthpol.2019.04.005.\n",
    "\n",
    "\n",
    "[2]\tJ. Rehm, R. Room, W. van den Brinkt, and L. Kraus, \"Problematic drug use and drug use disorders in EU countries and Norway: An overview of the epidemiology,\" European Neuropsychopharmacology, vol. 15, no. 4, pp. 389-397, 2005/08/01/ 2005, doi: https://doi.org/10.1016/j.euroneuro.2005.04.004.\n",
    "\n",
    "\n",
    "[3]\tP. Reuter and A. Stevens, \"An Analysis of UK Drug Policy A Monograph Prepared for the UK Drug Policy Commission,\" 01/01 2007.\n",
    "\n",
    "[4]\tP. Sedgwick, \"Pearson's correlation coefficient,\" (in English), BMJ : British Medical Journal (Online), vol. 345, 2012 Jul 04, 2021-07-19 2012, doi: https://doi.org/10.1136/bmj.e4483.\n",
    "\n",
    "[5]\tK. R. Godfrey, \"Correlation methods,\" Automatica, vol. 16, no. 5, pp. 527-534, 1980/09/01/ 1980, doi: https://doi.org/10.1016/0005-1098(80)90076-X.\n",
    "\n",
    "\n",
    "[6]\tP. Sedgwick, \"Spearman's rank correlation coefficient,\" (in English), BMJ : British Medical Journal (Online), vol. 349, 2014 Nov 28, 2016-10-31 2014, doi: https://doi.org/10.1136/bmj.g7327.\n",
    "\n",
    "[7]\tT. U. S. System. \"The UK Statistical System.\" (accessed 22/11/2022.)\n",
    "\n"
   ]
  }
 ],
 "metadata": {
  "kernelspec": {
   "display_name": "Python 3 (ipykernel)",
   "language": "python",
   "name": "python3"
  },
  "language_info": {
   "codemirror_mode": {
    "name": "ipython",
    "version": 3
   },
   "file_extension": ".py",
   "mimetype": "text/x-python",
   "name": "python",
   "nbconvert_exporter": "python",
   "pygments_lexer": "ipython3",
   "version": "3.9.13"
  }
 },
 "nbformat": 4,
 "nbformat_minor": 5
}
